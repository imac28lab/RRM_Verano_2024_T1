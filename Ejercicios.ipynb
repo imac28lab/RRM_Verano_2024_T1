{
 "cells": [
  {
   "cell_type": "code",
   "execution_count": 3,
   "metadata": {},
   "outputs": [],
   "source": [
    "import codigo_base.jose as j\n",
    "import codigo_base.gustavo as g\n",
    "import codigo_base.milagros as m\n",
    "import codigo_base.rosario as r\n",
    "import codigo_base.isai as i\n",
    "import codigo_base.formatear_tabla as ft\n",
    "import codigo_base.lopez as p\n",
    "import codigo_base.ortiz as o\n",
    "import codigo_base.falcon as f\n",
    "# Graficas\n",
    "import codigo_base.reyes as re\n",
    "import codigo_base.montaño as me\n",
    "import codigo_base.caracas as ca\n",
    "import codigo_base.paz as pa\n",
    "import codigo_base.atanacio as at"
   ]
  },
  {
   "cell_type": "markdown",
   "metadata": {},
   "source": [
    "### Ejercicio 7:\n",
    "\n",
    "Se entrevistó a 30 personas para que indicaran cuál es su equipo de futbol preferido. Los resultados fueron los siguientes:"
   ]
  },
  {
   "cell_type": "code",
   "execution_count": 6,
   "metadata": {},
   "outputs": [
    {
     "name": "stdout",
     "output_type": "stream",
     "text": [
      "    Clases  F absoluta  F relativa  F acumulada\n",
      "0  AMERICA           8   26.666667    26.666667\n",
      "1   CHIVAS           5   16.666667    43.333333\n",
      "2   NECAXA           2    6.666667    50.000000\n",
      "3    PUMAS           8   26.666667    76.666667\n",
      "4   SANTOS           3   10.000000    86.666667\n",
      "5   TOLUCA           4   13.333333   100.000000\n"
     ]
    }
   ],
   "source": [
    "datos = ['pumas','chivas','santos','pumas','america','toluca',\n",
    "         'america','america','necaxa','santos','chivas','chivas',\n",
    "         'chivas','toluca','america','pumas','america','america',\n",
    "         'pumas','toluca','america','pumas','pumas','toluca',\n",
    "         'chivas','pumas','america','pumas','necaxa','santos']\n",
    "\n",
    "\n",
    "datosF = p.format_list(datos) #Cambia el formato de los datos del arreglo\n",
    "\n",
    "clases, fa_absoluta = r.frec_abs(datosF) #Calcula las clases unicas asi como su F_absoluta\n",
    "\n",
    "clases_sorted = o.clases_str_sort(clases) #Ordena las clases por ordes alfabetico\n",
    "\n",
    "fa_sorted = m.sort_clases_fa(clases, clases_sorted, fa_absoluta) #Ordena las F_absolutas\n",
    "\n",
    "fr_relativa =  g.frecuencia_rel(fa_sorted) #Calculas las F_relativas\n",
    "\n",
    "fr_acum = j.calcular_frecuencia_a(fr_relativa) #Calculas las F_acomuladas\n",
    "\n",
    "tabla = ft.imptabla(clases_sorted, fa_sorted, fr_relativa, fr_acum) #Ordena los datos recabados en una tabla\n",
    "\n",
    "\n",
    "print (tabla) #Impresion de la tabla\n"
   ]
  },
  {
   "cell_type": "code",
   "execution_count": null,
   "metadata": {},
   "outputs": [],
   "source": []
  }
 ],
 "metadata": {
  "kernelspec": {
   "display_name": "Python 3",
   "language": "python",
   "name": "python3"
  },
  "language_info": {
   "codemirror_mode": {
    "name": "ipython",
    "version": 3
   },
   "file_extension": ".py",
   "mimetype": "text/x-python",
   "name": "python",
   "nbconvert_exporter": "python",
   "pygments_lexer": "ipython3",
   "version": "3.11.4"
  }
 },
 "nbformat": 4,
 "nbformat_minor": 2
}
